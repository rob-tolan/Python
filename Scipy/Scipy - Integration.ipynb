{
 "cells": [
  {
   "cell_type": "code",
   "execution_count": 2,
   "metadata": {},
   "outputs": [],
   "source": [
    "#General Integration\n",
    "import scipy.integrate as integrate\n",
    "import scipy.special as special"
   ]
  },
  {
   "cell_type": "code",
   "execution_count": 3,
   "metadata": {},
   "outputs": [],
   "source": [
    "#bessel function(2.5,x)"
   ]
  },
  {
   "cell_type": "code",
   "execution_count": 4,
   "metadata": {},
   "outputs": [],
   "source": [
    "result = integrate.quad(lambda x: special.jv(2.5,x), 0, 4.5)"
   ]
  },
  {
   "cell_type": "code",
   "execution_count": 5,
   "metadata": {},
   "outputs": [
    {
     "data": {
      "text/plain": [
       "(1.1178179380783244, 7.866317216380707e-09)"
      ]
     },
     "execution_count": 5,
     "metadata": {},
     "output_type": "execute_result"
    }
   ],
   "source": [
    "result"
   ]
  },
  {
   "cell_type": "code",
   "execution_count": 6,
   "metadata": {},
   "outputs": [
    {
     "data": {
      "text/plain": [
       "(0.00025275139999817467, 2.8061042378421627e-18)"
      ]
     },
     "execution_count": 6,
     "metadata": {},
     "output_type": "execute_result"
    }
   ],
   "source": [
    "#another bessel function\n",
    "result = integrate.quad(lambda x: special.jv(10,x), 0, 4.5)\n",
    "result"
   ]
  },
  {
   "cell_type": "code",
   "execution_count": 7,
   "metadata": {},
   "outputs": [
    {
     "data": {
      "text/plain": [
       "1.117817938088701"
      ]
     },
     "execution_count": 7,
     "metadata": {},
     "output_type": "execute_result"
    }
   ],
   "source": [
    "from numpy import sqrt, sin, cos, pi\n",
    "#fresnel\n",
    "I = sqrt(2/pi)*(18.0/27*sqrt(2)*cos(4.5) - 4.0/27*sqrt(2)*sin(4.5) +\n",
    "                sqrt(2*pi) * special.fresnel(3/sqrt(pi))[0])\n",
    "I"
   ]
  },
  {
   "cell_type": "code",
   "execution_count": 8,
   "metadata": {},
   "outputs": [
    {
     "name": "stdout",
     "output_type": "stream",
     "text": [
      "1.1175651866887029\n"
     ]
    }
   ],
   "source": [
    "print(abs(result[0]-I))"
   ]
  },
  {
   "cell_type": "code",
   "execution_count": 9,
   "metadata": {},
   "outputs": [
    {
     "data": {
      "text/plain": [
       "(1.6666666666666667, 1.8503717077085944e-14)"
      ]
     },
     "execution_count": 9,
     "metadata": {},
     "output_type": "execute_result"
    }
   ],
   "source": [
    "#ADDITIONAL PARAMETERS\n",
    "from scipy.integrate import quad\n",
    "def integrand(x, a, b):\n",
    "    return a*x**2 + b\n",
    "a = 2\n",
    "b = 1\n",
    "I = quad(integrand, 0, 1, args=(a,b))\n",
    "I\n"
   ]
  },
  {
   "cell_type": "code",
   "execution_count": 14,
   "metadata": {},
   "outputs": [],
   "source": [
    "#Special exponential\n",
    "import numpy as np\n",
    "from numpy import array\n",
    "def integrand(t, n, x):\n",
    "    return np.exp(-x*t) / t**n"
   ]
  },
  {
   "cell_type": "code",
   "execution_count": 15,
   "metadata": {},
   "outputs": [
    {
     "data": {
      "text/plain": [
       "array([0.10969197, 0.05673949, 0.03013338, 0.01629537, 0.00893065,\n",
       "       0.00494538])"
      ]
     },
     "execution_count": 15,
     "metadata": {},
     "output_type": "execute_result"
    }
   ],
   "source": [
    "def expint(n, x):\n",
    "    return quad(integrand, 1, np.inf, args=(n, x))[0]\n",
    "vec_expint = np.vectorize(expint)\n",
    "vec_expint(3, np.arange(1.0, 4.0, 0.5))\n",
    "array([ 0.1097,  0.0567,  0.0301,  0.0163,  0.0089,  0.0049])\n",
    "import scipy.special as special\n",
    "special.expn(3, np.arange(1.0,4.0,0.5))\n"
   ]
  },
  {
   "cell_type": "code",
   "execution_count": 16,
   "metadata": {},
   "outputs": [],
   "source": [
    "#Multiple Integration\n",
    "#need dblquad and tplquad\n",
    "from scipy.integrate import quad, dblquad\n",
    "def I(n):\n",
    "    return dblquad(lambda t, x: np.exp(-x*t)/t**n, 0, np.inf, lambda x: 1, lambda x: np.inf)"
   ]
  },
  {
   "cell_type": "code",
   "execution_count": 17,
   "metadata": {},
   "outputs": [
    {
     "name": "stdout",
     "output_type": "stream",
     "text": [
      "(0.9999999983857643, 1.1492024121278991e-07)\n"
     ]
    }
   ],
   "source": [
    "print(I(1))"
   ]
  },
  {
   "cell_type": "code",
   "execution_count": 18,
   "metadata": {},
   "outputs": [
    {
     "name": "stdout",
     "output_type": "stream",
     "text": [
      "(0.049999999999984876, 2.7143743394995246e-09)\n"
     ]
    }
   ],
   "source": [
    "print(I(20))"
   ]
  },
  {
   "cell_type": "code",
   "execution_count": 19,
   "metadata": {},
   "outputs": [
    {
     "name": "stdout",
     "output_type": "stream",
     "text": [
      "(0.010000000000118046, 1.4085861224338622e-08)\n"
     ]
    }
   ],
   "source": [
    "print(I(100))"
   ]
  },
  {
   "cell_type": "code",
   "execution_count": 20,
   "metadata": {},
   "outputs": [
    {
     "data": {
      "text/plain": [
       "(0.2000000000189363, 1.3682975855986121e-08)"
      ]
     },
     "execution_count": 20,
     "metadata": {},
     "output_type": "execute_result"
    }
   ],
   "source": [
    "#For n-fold integration need nquad\n",
    "from scipy import integrate\n",
    "N = 5\n",
    "def f(t, x):\n",
    "   return np.exp(-x*t) / t**N\n",
    "integrate.nquad(f, [[1, np.inf],[0, np.inf]])"
   ]
  },
  {
   "cell_type": "code",
   "execution_count": 21,
   "metadata": {},
   "outputs": [
    {
     "data": {
      "text/plain": [
       "(0.010416666666666668, 4.101620128472366e-16)"
      ]
     },
     "execution_count": 21,
     "metadata": {},
     "output_type": "execute_result"
    }
   ],
   "source": [
    "#Can use for non-constant limits\n",
    "def f(x, y):\n",
    "    return x*y\n",
    "\n",
    "def bounds_y():\n",
    "    return [0, 0.5]\n",
    "\n",
    "def bounds_x(y):\n",
    "    return [0, 1-2*y]\n",
    "integrate.nquad(f, [bounds_x, bounds_y])"
   ]
  },
  {
   "cell_type": "code",
   "execution_count": 28,
   "metadata": {},
   "outputs": [
    {
     "name": "stdout",
     "output_type": "stream",
     "text": [
      "(25.81905715199999, 0.0)\n"
     ]
    }
   ],
   "source": [
    "#Gaussian quadrature\n",
    "I = lambda x: x**8 + x**4\n",
    "J = integrate.quadrature(I, 0.0, 1.8)\n",
    "print(J)"
   ]
  },
  {
   "cell_type": "code",
   "execution_count": 39,
   "metadata": {},
   "outputs": [],
   "source": [
    "#Romberg Integration\n",
    "import sys\n",
    "def integrate(fn, a, b, steps=5, debug=False, exact=None):\n",
    "    table = np.zeros((steps, steps), dtype=np.float64)\n",
    "    pow_4 = 4 ** np.arange(steps, dtype=np.float64) - 1\n",
    "    # trapezoidal rule\n",
    "    h = (b - a)\n",
    "    table[0, 0] = h * (fn(a) + fn(b)) / 2\n",
    "    for j in range(1, steps):\n",
    "        h /= 2\n",
    "        # extended trapezoidal rule\n",
    "        table[j, 0] = table[j - 1, 0] / 2\n",
    "        table[j, 0] += h * np.sum(\n",
    "            fn(a + i * h) for i in range(1, 2 ** j + 1, 2)\n",
    "        )\n",
    "        # richardson extrapolation\n",
    "        for k in range(1, j + 1):\n",
    "            table[j, k] = table[j, k - 1] + \\\n",
    "                (table[j, k - 1] - table[j - 1, k - 1]) / pow_4[k]\n",
    "# debug\n",
    "    if debug:\n",
    "        print(table, file=sys.stderr)\n",
    "        if exact is not None:\n",
    "            errors = [\n",
    "                '%.2e' % i \n",
    "                for i in np.abs(table.diagonal() - exact)\n",
    "             ]\n",
    "            print('abs. error:', errors, file=sys.stderr)\n",
    "    return table[-1, -1]"
   ]
  },
  {
   "cell_type": "code",
   "execution_count": 40,
   "metadata": {},
   "outputs": [
    {
     "name": "stderr",
     "output_type": "stream",
     "text": [
      "C:\\Users\\Owner\\Anaconda3\\lib\\site-packages\\ipykernel_launcher.py:14: DeprecationWarning: Calling np.sum(generator) is deprecated, and in the future will give a different result. Use np.sum(np.fromiter(generator)) or the python sum builtin instead.\n",
      "  \n",
      "[[0.68393972 0.         0.         0.         0.        ]\n",
      " [0.73137025 0.74718043 0.         0.         0.        ]\n",
      " [0.7429841  0.74685538 0.74683371 0.         0.        ]\n",
      " [0.74586561 0.74682612 0.74682417 0.74682402 0.        ]\n",
      " [0.7465846  0.74682426 0.74682413 0.74682413 0.74682413]]\n",
      "abs. error: ['6.29e-02', '3.56e-04', '9.58e-06', '1.14e-07', '2.83e-10']\n"
     ]
    },
    {
     "data": {
      "text/plain": [
       "0.7468241330950943"
      ]
     },
     "execution_count": 40,
     "metadata": {},
     "output_type": "execute_result"
    }
   ],
   "source": [
    "integrate(lambda x: np.exp(-x * x), 0, 1, \n",
    "          debug=True, exact=0.746824132812427)"
   ]
  },
  {
   "cell_type": "code",
   "execution_count": 43,
   "metadata": {},
   "outputs": [
    {
     "name": "stdout",
     "output_type": "stream",
     "text": [
      "21.0\n"
     ]
    }
   ],
   "source": [
    "#Using samples\n",
    "def f1(x):\n",
    "   return x**2\n",
    "x = np.array([1,3,4])\n",
    "y1 = f1(x)\n",
    "from scipy.integrate import simps\n",
    "I1 = simps(y1, x)\n",
    "print(I1)"
   ]
  },
  {
   "cell_type": "code",
   "execution_count": null,
   "metadata": {},
   "outputs": [],
   "source": []
  }
 ],
 "metadata": {
  "kernelspec": {
   "display_name": "Python 3",
   "language": "python",
   "name": "python3"
  },
  "language_info": {
   "codemirror_mode": {
    "name": "ipython",
    "version": 3
   },
   "file_extension": ".py",
   "mimetype": "text/x-python",
   "name": "python",
   "nbconvert_exporter": "python",
   "pygments_lexer": "ipython3",
   "version": "3.7.4"
  }
 },
 "nbformat": 4,
 "nbformat_minor": 4
}
