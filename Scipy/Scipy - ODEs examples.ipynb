{
 "cells": [
  {
   "cell_type": "code",
   "execution_count": 1,
   "metadata": {},
   "outputs": [],
   "source": [
    "#Constant rate of change, dydt = C \n",
    "import numpy as np\n",
    "import matplotlib.pyplot as plt\n",
    "from scipy.integrate import solve_ivp\n",
    "def f(t, y, c):\n",
    "    dydt = [c[0]]\n",
    "    return dydt"
   ]
  },
  {
   "cell_type": "code",
   "execution_count": 2,
   "metadata": {},
   "outputs": [],
   "source": [
    "tspan = np.linspace(0, 10, 100)\n",
    "yinit = [6]\n",
    "c = [1.2]"
   ]
  },
  {
   "cell_type": "code",
   "execution_count": 3,
   "metadata": {},
   "outputs": [],
   "source": [
    "sol = solve_ivp(lambda t, y: f(t, y, c), \n",
    "                [tspan[0], tspan[-1]], yinit, t_eval=tspan)"
   ]
  },
  {
   "cell_type": "code",
   "execution_count": 4,
   "metadata": {},
   "outputs": [
    {
     "name": "stdout",
     "output_type": "stream",
     "text": [
      "  message: 'The solver successfully reached the end of the integration interval.'\n",
      "     nfev: 20\n",
      "     njev: 0\n",
      "      nlu: 0\n",
      "      sol: None\n",
      "   status: 0\n",
      "  success: True\n",
      "        t: array([ 0.        ,  0.1010101 ,  0.2020202 ,  0.3030303 ,  0.4040404 ,\n",
      "        0.50505051,  0.60606061,  0.70707071,  0.80808081,  0.90909091,\n",
      "        1.01010101,  1.11111111,  1.21212121,  1.31313131,  1.41414141,\n",
      "        1.51515152,  1.61616162,  1.71717172,  1.81818182,  1.91919192,\n",
      "        2.02020202,  2.12121212,  2.22222222,  2.32323232,  2.42424242,\n",
      "        2.52525253,  2.62626263,  2.72727273,  2.82828283,  2.92929293,\n",
      "        3.03030303,  3.13131313,  3.23232323,  3.33333333,  3.43434343,\n",
      "        3.53535354,  3.63636364,  3.73737374,  3.83838384,  3.93939394,\n",
      "        4.04040404,  4.14141414,  4.24242424,  4.34343434,  4.44444444,\n",
      "        4.54545455,  4.64646465,  4.74747475,  4.84848485,  4.94949495,\n",
      "        5.05050505,  5.15151515,  5.25252525,  5.35353535,  5.45454545,\n",
      "        5.55555556,  5.65656566,  5.75757576,  5.85858586,  5.95959596,\n",
      "        6.06060606,  6.16161616,  6.26262626,  6.36363636,  6.46464646,\n",
      "        6.56565657,  6.66666667,  6.76767677,  6.86868687,  6.96969697,\n",
      "        7.07070707,  7.17171717,  7.27272727,  7.37373737,  7.47474747,\n",
      "        7.57575758,  7.67676768,  7.77777778,  7.87878788,  7.97979798,\n",
      "        8.08080808,  8.18181818,  8.28282828,  8.38383838,  8.48484848,\n",
      "        8.58585859,  8.68686869,  8.78787879,  8.88888889,  8.98989899,\n",
      "        9.09090909,  9.19191919,  9.29292929,  9.39393939,  9.49494949,\n",
      "        9.5959596 ,  9.6969697 ,  9.7979798 ,  9.8989899 , 10.        ])\n",
      " t_events: None\n",
      "        y: array([[ 6.        ,  6.12121212,  6.24242424,  6.36363636,  6.48484848,\n",
      "         6.60606061,  6.72727273,  6.84848485,  6.96969697,  7.09090909,\n",
      "         7.21212121,  7.33333333,  7.45454545,  7.57575758,  7.6969697 ,\n",
      "         7.81818182,  7.93939394,  8.06060606,  8.18181818,  8.3030303 ,\n",
      "         8.42424242,  8.54545455,  8.66666667,  8.78787879,  8.90909091,\n",
      "         9.03030303,  9.15151515,  9.27272727,  9.39393939,  9.51515152,\n",
      "         9.63636364,  9.75757576,  9.87878788, 10.        , 10.12121212,\n",
      "        10.24242424, 10.36363636, 10.48484848, 10.60606061, 10.72727273,\n",
      "        10.84848485, 10.96969697, 11.09090909, 11.21212121, 11.33333333,\n",
      "        11.45454545, 11.57575758, 11.6969697 , 11.81818182, 11.93939394,\n",
      "        12.06060606, 12.18181818, 12.3030303 , 12.42424242, 12.54545455,\n",
      "        12.66666667, 12.78787879, 12.90909091, 13.03030303, 13.15151515,\n",
      "        13.27272727, 13.39393939, 13.51515152, 13.63636364, 13.75757576,\n",
      "        13.87878788, 14.        , 14.12121212, 14.24242424, 14.36363636,\n",
      "        14.48484848, 14.60606061, 14.72727273, 14.84848485, 14.96969697,\n",
      "        15.09090909, 15.21212121, 15.33333333, 15.45454545, 15.57575758,\n",
      "        15.6969697 , 15.81818182, 15.93939394, 16.06060606, 16.18181818,\n",
      "        16.3030303 , 16.42424242, 16.54545455, 16.66666667, 16.78787879,\n",
      "        16.90909091, 17.03030303, 17.15151515, 17.27272727, 17.39393939,\n",
      "        17.51515152, 17.63636364, 17.75757576, 17.87878788, 18.        ]])\n"
     ]
    }
   ],
   "source": [
    "print(sol)"
   ]
  },
  {
   "cell_type": "code",
   "execution_count": 5,
   "metadata": {},
   "outputs": [],
   "source": [
    "#Time dependent rate of change, values of derivative can be written with np.polyval\n",
    "import numpy as np\n",
    "import matplotlib.pyplot as plt\n",
    "from scipy.integrate import solve_ivp"
   ]
  },
  {
   "cell_type": "code",
   "execution_count": 6,
   "metadata": {},
   "outputs": [],
   "source": [
    "def f(t, y, c):\n",
    "    dydt = np.polyval(c, t)\n",
    "    return dydt\n",
    "tspan = np.linspace(0, 4, 20)\n",
    "yinit = [6]\n",
    "c = [2, -6, 3]"
   ]
  },
  {
   "cell_type": "code",
   "execution_count": 7,
   "metadata": {},
   "outputs": [],
   "source": [
    "sol = solve_ivp(lambda t, y: f(t, y, c), \n",
    "                [tspan[0], tspan[-1]], yinit, t_eval=tspan)"
   ]
  },
  {
   "cell_type": "code",
   "execution_count": 16,
   "metadata": {},
   "outputs": [
    {
     "name": "stdout",
     "output_type": "stream",
     "text": [
      "  message: 'The solver successfully reached the end of the integration interval.'\n",
      "     nfev: 26\n",
      "     njev: 0\n",
      "      nlu: 0\n",
      "      sol: None\n",
      "   status: 0\n",
      "  success: True\n",
      "        t: array([0.   , 0.125, 0.25 , 0.375, 0.5  , 0.625, 0.75 , 0.875, 1.   ,\n",
      "       1.125, 1.25 , 1.375, 1.5  , 1.625, 1.75 , 1.875, 2.   , 2.125,\n",
      "       2.25 , 2.375, 2.5  , 2.625, 2.75 , 2.875, 3.   ])\n",
      " t_events: None\n",
      "        y: array([[ 10.        ,  11.35987983,  12.90515224,  14.66008601,\n",
      "         16.65289064,  18.91649828,  21.48856369,  24.41146427,\n",
      "         27.73230009,  31.50489492,  35.7919523 ,  40.65800576,\n",
      "         46.18083274,  52.45233238,  59.57852552,  67.67955474,\n",
      "         76.88968429,  87.35730016,  99.24491002, 112.74240945,\n",
      "        128.07419814, 145.48795259, 165.27006457, 187.74573622,\n",
      "        213.27898003]])\n"
     ]
    }
   ],
   "source": [
    "print(sol)"
   ]
  },
  {
   "cell_type": "code",
   "execution_count": 15,
   "metadata": {},
   "outputs": [
    {
     "name": "stdout",
     "output_type": "stream",
     "text": [
      "  message: 'The solver successfully reached the end of the integration interval.'\n",
      "     nfev: 26\n",
      "     njev: 0\n",
      "      nlu: 0\n",
      "      sol: None\n",
      "   status: 0\n",
      "  success: True\n",
      "        t: array([0.   , 0.125, 0.25 , 0.375, 0.5  , 0.625, 0.75 , 0.875, 1.   ,\n",
      "       1.125, 1.25 , 1.375, 1.5  , 1.625, 1.75 , 1.875, 2.   , 2.125,\n",
      "       2.25 , 2.375, 2.5  , 2.625, 2.75 , 2.875, 3.   ])\n",
      " t_events: None\n",
      "        y: array([[ 10.        ,  11.35987983,  12.90515224,  14.66008601,\n",
      "         16.65289064,  18.91649828,  21.48856369,  24.41146427,\n",
      "         27.73230009,  31.50489492,  35.7919523 ,  40.65800576,\n",
      "         46.18083274,  52.45233238,  59.57852552,  67.67955474,\n",
      "         76.88968429,  87.35730016,  99.24491002, 112.74240945,\n",
      "        128.07419814, 145.48795259, 165.27006457, 187.74573622,\n",
      "        213.27898003]])\n"
     ]
    }
   ],
   "source": [
    "#Population growth, dydt = C.y\n",
    "import numpy as np\n",
    "from scipy.integrate import solve_ivp\n",
    "def f(t, y, c):\n",
    "    dydt = [c[0] * y[0]]\n",
    "    return dydt\n",
    "tspan = np.linspace(0, 3, 25)\n",
    "yinit = [10]\n",
    "c = [1.02]\n",
    "sol = solve_ivp(lambda t, y: f(t, y, c), \n",
    "                [tspan[0], tspan[-1]], yinit, t_eval=tspan)\n",
    "print(sol)"
   ]
  }
 ],
 "metadata": {
  "kernelspec": {
   "display_name": "Python 3",
   "language": "python",
   "name": "python3"
  },
  "language_info": {
   "codemirror_mode": {
    "name": "ipython",
    "version": 3
   },
   "file_extension": ".py",
   "mimetype": "text/x-python",
   "name": "python",
   "nbconvert_exporter": "python",
   "pygments_lexer": "ipython3",
   "version": "3.7.4"
  }
 },
 "nbformat": 4,
 "nbformat_minor": 4
}
