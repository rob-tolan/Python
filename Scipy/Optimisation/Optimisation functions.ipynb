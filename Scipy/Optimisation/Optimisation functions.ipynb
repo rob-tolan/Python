{
 "cells": [
  {
   "cell_type": "code",
   "execution_count": 2,
   "metadata": {},
   "outputs": [],
   "source": [
    "import numpy as np\n",
    "#Gaussian functions with varying conditions\n",
    "def gaussian(x):\n",
    "    return np.exp(-np.sum(x**2))"
   ]
  },
  {
   "cell_type": "code",
   "execution_count": 3,
   "metadata": {},
   "outputs": [],
   "source": [
    "def gaussian_prime(x):\n",
    "    return -2*x*np.exp(-np.sum(x**2))"
   ]
  },
  {
   "cell_type": "code",
   "execution_count": 4,
   "metadata": {},
   "outputs": [],
   "source": [
    "def gaussian_prime_prime(x):\n",
    "    return -2*np.exp(-x**2) + 4*x**2*np.exp(-x**2)"
   ]
  },
  {
   "cell_type": "code",
   "execution_count": 5,
   "metadata": {},
   "outputs": [],
   "source": [
    "def mk_gauss(epsilon, ndim=2):\n",
    "    def f(x):\n",
    "        x = np.asarray(x)\n",
    "        y = x.copy()\n",
    "        y *= np.power(epsilon, np.arange(ndim))\n",
    "        return -gaussian(.5*y) + 1\n"
   ]
  },
  {
   "cell_type": "code",
   "execution_count": 6,
   "metadata": {},
   "outputs": [],
   "source": [
    "def f_prime(x):\n",
    "        x = np.asarray(x)\n",
    "        y = x.copy()\n",
    "        scaling = np.power(epsilon, np.arange(ndim))\n",
    "        y *= scaling\n",
    "        return -.5*scaling*gaussian_prime(.5*y)\n"
   ]
  },
  {
   "cell_type": "code",
   "execution_count": 16,
   "metadata": {},
   "outputs": [],
   "source": [
    "def hessian(x):\n",
    "        epsilon = .07\n",
    "        x = np.asarray(x)\n",
    "        y = x.copy()\n",
    "        scaling = np.power(epsilon, np.arange(ndim))\n",
    "        y *= .5*scaling\n",
    "        H = -.25*np.ones((ndim, ndim))*gaussian(y)\n",
    "        d = 4*y*y[:, np.newaxis]\n",
    "        d.flat[::ndim+1] += -2\n",
    "        H *= d\n",
    "        return H\n",
    "        return  f, f_prime, hessian"
   ]
  },
  {
   "cell_type": "code",
   "execution_count": null,
   "metadata": {},
   "outputs": [],
   "source": [
    "#Quadratic functions with varying conditions\n",
    "def mk_quad(epsilon, ndim=2):\n",
    "    def f(x):\n",
    "       x = np.asarray(x)\n",
    "       y = x.copy()\n",
    "       y *= np.power(epsilon, np.arange(ndim))\n",
    "       return .33*np.sum(y**2)\n",
    "\n",
    "    def f_prime(x):\n",
    "       x = np.asarray(x)\n",
    "       y = x.copy()\n",
    "       scaling = np.power(epsilon, np.arange(ndim))\n",
    "       y *= scaling\n",
    "       return .33*2*scaling*y\n",
    "\n",
    "    def hessian(x):\n",
    "       scaling = np.power(epsilon, np.arange(ndim))\n",
    "       return .33*2*np.diag(scaling)\n",
    "\n",
    "    return f, f_prime, hessian"
   ]
  },
  {
   "cell_type": "code",
   "execution_count": 21,
   "metadata": {},
   "outputs": [],
   "source": [
    "#Rosenbrock\n",
    "def rosenbrock(x):\n",
    "    y = 4*x\n",
    "    y[0] += 1\n",
    "    y[1:] += 3\n",
    "    return np.sum(.5*(1 - y[:-1])**2 + (y[1:] - y[:-1]**2)**2)\n",
    "\n",
    "\n",
    "def rosenbrock_prime(x):\n",
    "    y = 4*x\n",
    "    y[0] += 1\n",
    "    y[1:] += 3\n",
    "    xm = y[1:-1]\n",
    "    xm_m1 = y[:-2]\n",
    "    xm_p1 = y[2:]\n",
    "    der = np.zeros_like(y)\n",
    "    der[1:-1] = 2*(xm - xm_m1**2) - 4*(xm_p1 - xm**2)*xm - .5*2*(1 - xm)\n",
    "    der[0] = -4*y[0]*(y[1] - y[0]**2) - .5*2*(1 - y[0])\n",
    "    der[-1] = 2*(y[-1] - y[-2]**2)\n",
    "    return 4*der\n",
    "\n",
    "\n",
    "def rosenbrock_hessian_(x):\n",
    "    x, y = x\n",
    "    x = 4*x + 1\n",
    "    y = 4*y + 3\n",
    "    return 4*4*np.array((\n",
    "                    (1 - 4*y + 12*x**2, -4*x),\n",
    "                    (             -4*x,    2),\n",
    "                   ))\n",
    "\n",
    "\n",
    "def rosenbrock_hessian(x):\n",
    "    y = 4*x\n",
    "    y[0] += 1\n",
    "    y[1:] += 3\n",
    "\n",
    "    H = np.diag(-4*y[:-1], 1) - np.diag(4*y[:-1], -1)\n",
    "    diagonal = np.zeros_like(y)\n",
    "    diagonal[0] = 12*y[0]**2 - 4*y[1] + 2*.5\n",
    "    diagonal[-1] = 2\n",
    "    diagonal[1:-1] = 3 + 12*y[1:-1]**2 - 4*y[2:]*.5\n",
    "    H = H + np.diag(diagonal)\n",
    "    return 4*4*H"
   ]
  }
 ],
 "metadata": {
  "kernelspec": {
   "display_name": "Python 3",
   "language": "python",
   "name": "python3"
  },
  "language_info": {
   "codemirror_mode": {
    "name": "ipython",
    "version": 3
   },
   "file_extension": ".py",
   "mimetype": "text/x-python",
   "name": "python",
   "nbconvert_exporter": "python",
   "pygments_lexer": "ipython3",
   "version": "3.7.4"
  }
 },
 "nbformat": 4,
 "nbformat_minor": 4
}
