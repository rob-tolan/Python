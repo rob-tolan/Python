{
 "cells": [
  {
   "cell_type": "code",
   "execution_count": 4,
   "metadata": {},
   "outputs": [
    {
     "name": "stdout",
     "output_type": "stream",
     "text": [
      "  message: 'The solver successfully reached the end of the integration interval.'\n",
      "     nfev: 62\n",
      "     njev: 0\n",
      "      nlu: 0\n",
      "      sol: None\n",
      "   status: 0\n",
      "  success: True\n",
      "        t: array([ 0.        ,  0.09222001,  0.95192723,  1.81163445,  2.71266218,\n",
      "        3.86465167,  5.34073095,  7.30859458, 10.05620309, 14.06163429,\n",
      "       15.        ])\n",
      " t_events: None\n",
      "        y: array([[ 2.        ,  1.82793351,  1.11039319,  1.30219875,  1.91202091,\n",
      "         2.92787286,  4.35552188,  6.3111682 ,  9.05712136, 13.0646847 ,\n",
      "        14.00119445]])\n"
     ]
    }
   ],
   "source": [
    "#With initial conditions, can use solve_ivp for 1st orders\n",
    "import numpy as np\n",
    "from scipy.integrate import solve_ivp\n",
    "sol = solve_ivp(lambda t, y: t-y, [0, 15], [2])\n",
    "print(sol)"
   ]
  },
  {
   "cell_type": "code",
   "execution_count": 7,
   "metadata": {},
   "outputs": [
    {
     "data": {
      "text/plain": [
       "[<matplotlib.lines.Line2D at 0x29541bbb2c8>]"
      ]
     },
     "execution_count": 7,
     "metadata": {},
     "output_type": "execute_result"
    },
    {
     "data": {
      "image/png": "[encoded data removed]",
      "text/plain": [
       "<Figure size 432x288 with 1 Axes>"
      ]
     },
     "metadata": {
      "needs_background": "light"
     },
     "output_type": "display_data"
    }
   ],
   "source": [
    "import matplotlib.pyplot as plt\n",
    "plt.plot(sol.t, sol.y[0], 'k--s')"
   ]
  },
  {
   "cell_type": "code",
   "execution_count": null,
   "metadata": {},
   "outputs": [],
   "source": [
    "def x(t):\n",
    "    return np.cos(3 * t)\n",
    "\n",
    "def f(t, y, c):\n",
    "    dydt = x(t) - y / 4\n",
    "    return dydt\n"
   ]
  }
 ],
 "metadata": {
  "kernelspec": {
   "display_name": "Python 3",
   "language": "python",
   "name": "python3"
  },
  "language_info": {
   "codemirror_mode": {
    "name": "ipython",
    "version": 3
   },
   "file_extension": ".py",
   "mimetype": "text/x-python",
   "name": "python",
   "nbconvert_exporter": "python",
   "pygments_lexer": "ipython3",
   "version": "3.7.4"
  }
 },
 "nbformat": 4,
 "nbformat_minor": 4
}
