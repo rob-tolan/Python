{
 "cells": [
  {
   "cell_type": "code",
   "execution_count": 7,
   "metadata": {},
   "outputs": [],
   "source": [
    "#imports\n",
    "import pandas as pd\n",
    "import numpy as np\n",
    "import seaborn as sns\n",
    "from array import array\n",
    "\n",
    "sns.set_style('whitegrid')"
   ]
  },
  {
   "cell_type": "code",
   "execution_count": 2,
   "metadata": {},
   "outputs": [],
   "source": [
    "#number of reps and data\n",
    "avg = 1\n",
    "std_dev = .1\n",
    "num_reps = 500\n",
    "num_simulations = 1000"
   ]
  },
  {
   "cell_type": "code",
   "execution_count": 3,
   "metadata": {},
   "outputs": [],
   "source": [
    "#numpy\n",
    "pct_to_target = np.random.normal(avg, std_dev, num_reps).round(2)"
   ]
  },
  {
   "cell_type": "code",
   "execution_count": 12,
   "metadata": {},
   "outputs": [],
   "source": [
    "sales_target_values = [75_000, 100_000, 200_000, 300_000, 400_000, 500_000]\n",
    "sales_target_prob = [.3, .3, .2, .1, .05, .05]\n",
    "sales_target = np.random.choice(sales_target_values, num_reps, p=sales_target_prob)"
   ]
  },
  {
   "cell_type": "code",
   "execution_count": 13,
   "metadata": {},
   "outputs": [],
   "source": [
    "#building PANDAS dataframe\n",
    "df = pd.DataFrame(index=range(num_reps), data={'Pct_To_Target': pct_to_target,\n",
    "                                               'Sales_Target': sales_target})\n",
    "\n",
    "df['Sales'] = df['Pct_To_Target'] * df['Sales_Target']"
   ]
  },
  {
   "cell_type": "code",
   "execution_count": 14,
   "metadata": {},
   "outputs": [],
   "source": [
    "#our map\n",
    "def calc_commission_rate(x):\n",
    "    if x <= .90:\n",
    "        return .02\n",
    "    if x <= .99:\n",
    "        return .03\n",
    "    else:\n",
    "        return .04"
   ]
  },
  {
   "cell_type": "code",
   "execution_count": 15,
   "metadata": {},
   "outputs": [],
   "source": [
    "#combining commissions and sales\n",
    "df['Commission_Rate'] = df['Pct_To_Target'].apply(calc_commission_rate)\n",
    "df['Commission_Amount'] = df['Commission_Rate'] * df['Sales']"
   ]
  },
  {
   "cell_type": "code",
   "execution_count": 16,
   "metadata": {},
   "outputs": [],
   "source": [
    "#loop part\n",
    "# Define a list to keep all the results from each simulation that we want to analyze\n",
    "all_stats = []\n",
    "for i in range(num_simulations):\n",
    "    # Choose random inputs for the sales targets and percent to target\n",
    "    sales_target = np.random.choice(sales_target_values, num_reps, p=sales_target_prob)\n",
    "    pct_to_target = np.random.normal(avg, std_dev, num_reps).round(2)\n",
    "\n",
    "    # Build the dataframe based on the inputs and number of reps\n",
    "    df = pd.DataFrame(index=range(num_reps), data={'Pct_To_Target': pct_to_target,\n",
    "                                                   'Sales_Target': sales_target})\n",
    "\n",
    "    # Back into the sales number using the percent to target rate\n",
    "    df['Sales'] = df['Pct_To_Target'] * df['Sales_Target']\n",
    "\n",
    "    # Determine the commissions rate and calculate it\n",
    "    df['Commission_Rate'] = df['Pct_To_Target'].apply(calc_commission_rate)\n",
    "    df['Commission_Amount'] = df['Commission_Rate'] * df['Sales']\n",
    "\n",
    "    # We want to track sales,commission amounts and sales targets over all the simulations\n",
    "    all_stats.append([df['Sales'].sum().round(0),\n",
    "                      df['Commission_Amount'].sum().round(0),\n",
    "                      df['Sales_Target'].sum().round(0)])\n"
   ]
  },
  {
   "cell_type": "code",
   "execution_count": 20,
   "metadata": {},
   "outputs": [],
   "source": [
    "#all stats dataframe\n",
    "results_df = pd.DataFrame.from_records(all_stats, columns=['Sales',\n",
    "                                                           'Commission_Amount',\n",
    "                                                           'Sales_Target'])"
   ]
  },
  {
   "cell_type": "code",
   "execution_count": 21,
   "metadata": {},
   "outputs": [
    {
     "data": {
      "text/html": [
       "<style  type=\"text/css\" >\n",
       "</style><table id=\"T_95b16a0a_93ed_11ea_9c59_9453306b9b4a\" ><thead>    <tr>        <th class=\"blank level0\" ></th>        <th class=\"col_heading level0 col0\" >Sales</th>        <th class=\"col_heading level0 col1\" >Commission_Amount</th>        <th class=\"col_heading level0 col2\" >Sales_Target</th>    </tr></thead><tbody>\n",
       "                <tr>\n",
       "                        <th id=\"T_95b16a0a_93ed_11ea_9c59_9453306b9b4alevel0_row0\" class=\"row_heading level0 row0\" >count</th>\n",
       "                        <td id=\"T_95b16a0a_93ed_11ea_9c59_9453306b9b4arow0_col0\" class=\"data row0 col0\" >1,000.0</td>\n",
       "                        <td id=\"T_95b16a0a_93ed_11ea_9c59_9453306b9b4arow0_col1\" class=\"data row0 col1\" >1,000.0</td>\n",
       "                        <td id=\"T_95b16a0a_93ed_11ea_9c59_9453306b9b4arow0_col2\" class=\"data row0 col2\" >1,000.0</td>\n",
       "            </tr>\n",
       "            <tr>\n",
       "                        <th id=\"T_95b16a0a_93ed_11ea_9c59_9453306b9b4alevel0_row1\" class=\"row_heading level0 row1\" >mean</th>\n",
       "                        <td id=\"T_95b16a0a_93ed_11ea_9c59_9453306b9b4arow1_col0\" class=\"data row1 col0\" >83,765,359.25</td>\n",
       "                        <td id=\"T_95b16a0a_93ed_11ea_9c59_9453306b9b4arow1_col1\" class=\"data row1 col1\" >2,860,417.04</td>\n",
       "                        <td id=\"T_95b16a0a_93ed_11ea_9c59_9453306b9b4arow1_col2\" class=\"data row1 col2\" >83,761,550.0</td>\n",
       "            </tr>\n",
       "            <tr>\n",
       "                        <th id=\"T_95b16a0a_93ed_11ea_9c59_9453306b9b4alevel0_row2\" class=\"row_heading level0 row2\" >std</th>\n",
       "                        <td id=\"T_95b16a0a_93ed_11ea_9c59_9453306b9b4arow2_col0\" class=\"data row2 col0\" >2,627,143.821869646</td>\n",
       "                        <td id=\"T_95b16a0a_93ed_11ea_9c59_9453306b9b4arow2_col1\" class=\"data row2 col1\" >101,539.89782336977</td>\n",
       "                        <td id=\"T_95b16a0a_93ed_11ea_9c59_9453306b9b4arow2_col2\" class=\"data row2 col2\" >2,570,870.1777746323</td>\n",
       "            </tr>\n",
       "            <tr>\n",
       "                        <th id=\"T_95b16a0a_93ed_11ea_9c59_9453306b9b4alevel0_row3\" class=\"row_heading level0 row3\" >min</th>\n",
       "                        <td id=\"T_95b16a0a_93ed_11ea_9c59_9453306b9b4arow3_col0\" class=\"data row3 col0\" >76,805,250.0</td>\n",
       "                        <td id=\"T_95b16a0a_93ed_11ea_9c59_9453306b9b4arow3_col1\" class=\"data row3 col1\" >2,588,435.0</td>\n",
       "                        <td id=\"T_95b16a0a_93ed_11ea_9c59_9453306b9b4arow3_col2\" class=\"data row3 col2\" >76,600,000.0</td>\n",
       "            </tr>\n",
       "            <tr>\n",
       "                        <th id=\"T_95b16a0a_93ed_11ea_9c59_9453306b9b4alevel0_row4\" class=\"row_heading level0 row4\" >25%</th>\n",
       "                        <td id=\"T_95b16a0a_93ed_11ea_9c59_9453306b9b4arow4_col0\" class=\"data row4 col0\" >82,003,375.0</td>\n",
       "                        <td id=\"T_95b16a0a_93ed_11ea_9c59_9453306b9b4arow4_col1\" class=\"data row4 col1\" >2,792,764.5</td>\n",
       "                        <td id=\"T_95b16a0a_93ed_11ea_9c59_9453306b9b4arow4_col2\" class=\"data row4 col2\" >82,118,750.0</td>\n",
       "            </tr>\n",
       "            <tr>\n",
       "                        <th id=\"T_95b16a0a_93ed_11ea_9c59_9453306b9b4alevel0_row5\" class=\"row_heading level0 row5\" >50%</th>\n",
       "                        <td id=\"T_95b16a0a_93ed_11ea_9c59_9453306b9b4arow5_col0\" class=\"data row5 col0\" >83,633,625.0</td>\n",
       "                        <td id=\"T_95b16a0a_93ed_11ea_9c59_9453306b9b4arow5_col1\" class=\"data row5 col1\" >2,856,945.0</td>\n",
       "                        <td id=\"T_95b16a0a_93ed_11ea_9c59_9453306b9b4arow5_col2\" class=\"data row5 col2\" >83,687,500.0</td>\n",
       "            </tr>\n",
       "            <tr>\n",
       "                        <th id=\"T_95b16a0a_93ed_11ea_9c59_9453306b9b4alevel0_row6\" class=\"row_heading level0 row6\" >75%</th>\n",
       "                        <td id=\"T_95b16a0a_93ed_11ea_9c59_9453306b9b4arow6_col0\" class=\"data row6 col0\" >85,601,812.5</td>\n",
       "                        <td id=\"T_95b16a0a_93ed_11ea_9c59_9453306b9b4arow6_col1\" class=\"data row6 col1\" >2,927,406.25</td>\n",
       "                        <td id=\"T_95b16a0a_93ed_11ea_9c59_9453306b9b4arow6_col2\" class=\"data row6 col2\" >85,575,000.0</td>\n",
       "            </tr>\n",
       "            <tr>\n",
       "                        <th id=\"T_95b16a0a_93ed_11ea_9c59_9453306b9b4alevel0_row7\" class=\"row_heading level0 row7\" >max</th>\n",
       "                        <td id=\"T_95b16a0a_93ed_11ea_9c59_9453306b9b4arow7_col0\" class=\"data row7 col0\" >92,394,000.0</td>\n",
       "                        <td id=\"T_95b16a0a_93ed_11ea_9c59_9453306b9b4arow7_col1\" class=\"data row7 col1\" >3,210,348.0</td>\n",
       "                        <td id=\"T_95b16a0a_93ed_11ea_9c59_9453306b9b4arow7_col2\" class=\"data row7 col2\" >91,375,000.0</td>\n",
       "            </tr>\n",
       "    </tbody></table>"
      ],
      "text/plain": [
       "<pandas.io.formats.style.Styler at 0x1fcf9f05dc8>"
      ]
     },
     "execution_count": 21,
     "metadata": {},
     "output_type": "execute_result"
    }
   ],
   "source": [
    "#range of results\n",
    "results_df.describe().style.format('{:,}')"
   ]
  },
  {
   "cell_type": "code",
   "execution_count": null,
   "metadata": {},
   "outputs": [],
   "source": []
  }
 ],
 "metadata": {
  "kernelspec": {
   "display_name": "Python 3",
   "language": "python",
   "name": "python3"
  },
  "language_info": {
   "codemirror_mode": {
    "name": "ipython",
    "version": 3
   },
   "file_extension": ".py",
   "mimetype": "text/x-python",
   "name": "python",
   "nbconvert_exporter": "python",
   "pygments_lexer": "ipython3",
   "version": "3.7.4"
  }
 },
 "nbformat": 4,
 "nbformat_minor": 4
}
