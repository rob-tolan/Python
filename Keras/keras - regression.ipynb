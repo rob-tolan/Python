{
 "cells": [
  {
   "cell_type": "code",
   "execution_count": 1,
   "metadata": {},
   "outputs": [
    {
     "name": "stderr",
     "output_type": "stream",
     "text": [
      "Using TensorFlow backend.\n"
     ]
    }
   ],
   "source": [
    "from keras.models import Sequential\n",
    "from keras.layers import Dense\n",
    "import numpy as np\n",
    "import matplotlib.pyplot as plt\n",
    "%matplotlib inline"
   ]
  },
  {
   "cell_type": "code",
   "execution_count": 2,
   "metadata": {},
   "outputs": [],
   "source": [
    "# Generate dataset\n",
    "trX = np.linspace(-1, 1, 101)\n",
    "trY = 2 * trX + np.random.randn(*trX.shape) * 0.33 # create a y value which is approximately linear but with some random noise"
   ]
  },
  {
   "cell_type": "code",
   "execution_count": 3,
   "metadata": {},
   "outputs": [
    {
     "name": "stderr",
     "output_type": "stream",
     "text": [
      "C:\\Users\\Owner\\Anaconda3\\lib\\site-packages\\ipykernel_launcher.py:3: UserWarning: Update your `Dense` call to the Keras 2 API: `Dense(input_dim=1, activation=\"linear\", units=1, kernel_initializer=\"uniform\")`\n",
      "  This is separate from the ipykernel package so we can avoid doing imports until\n"
     ]
    }
   ],
   "source": [
    "# Linear regression model\n",
    "model = Sequential()\n",
    "model.add(Dense(input_dim=1, output_dim=1, init='uniform', activation='linear'))\n",
    "model.compile(optimizer='sgd', loss='mse')"
   ]
  },
  {
   "cell_type": "code",
   "execution_count": 4,
   "metadata": {},
   "outputs": [
    {
     "name": "stdout",
     "output_type": "stream",
     "text": [
      "Linear regression model is initialized with weight w: 0.04, b: 0.00\n"
     ]
    }
   ],
   "source": [
    "# Print initial weights\n",
    "weights = model.layers[0].get_weights()\n",
    "w_init = weights[0][0][0]\n",
    "b_init = weights[1][0]\n",
    "print('Linear regression model is initialized with weight w: %.2f, b: %.2f' % (w_init, b_init))"
   ]
  },
  {
   "cell_type": "code",
   "execution_count": 5,
   "metadata": {},
   "outputs": [
    {
     "name": "stderr",
     "output_type": "stream",
     "text": [
      "C:\\Users\\Owner\\Anaconda3\\lib\\site-packages\\ipykernel_launcher.py:2: UserWarning: The `nb_epoch` argument in `fit` has been renamed `epochs`.\n",
      "  \n"
     ]
    },
    {
     "name": "stdout",
     "output_type": "stream",
     "text": [
      "Epoch 1/100\n",
      "101/101 [==============================] - 3s 31ms/step - loss: 1.3089\n",
      "Epoch 2/100\n",
      "101/101 [==============================] - 0s 238us/step - loss: 1.2479\n",
      "Epoch 3/100\n",
      "101/101 [==============================] - 0s 247us/step - loss: 1.1863\n",
      "Epoch 4/100\n",
      "101/101 [==============================] - 0s 238us/step - loss: 1.1347\n",
      "Epoch 5/100\n",
      "101/101 [==============================] - 0s 158us/step - loss: 1.0835\n",
      "Epoch 6/100\n",
      "101/101 [==============================] - 0s 198us/step - loss: 1.0314\n",
      "Epoch 7/100\n",
      "101/101 [==============================] - 0s 168us/step - loss: 0.9879\n",
      "Epoch 8/100\n",
      "101/101 [==============================] - 0s 168us/step - loss: 0.9338\n",
      "Epoch 9/100\n",
      "101/101 [==============================] - 0s 218us/step - loss: 0.8922\n",
      "Epoch 10/100\n",
      "101/101 [==============================] - 0s 149us/step - loss: 0.8490\n",
      "Epoch 11/100\n",
      "101/101 [==============================] - 0s 139us/step - loss: 0.8077\n",
      "Epoch 12/100\n",
      "101/101 [==============================] - 0s 158us/step - loss: 0.7628\n",
      "Epoch 13/100\n",
      "101/101 [==============================] - 0s 158us/step - loss: 0.7249\n",
      "Epoch 14/100\n",
      "101/101 [==============================] - 0s 178us/step - loss: 0.6872\n",
      "Epoch 15/100\n",
      "101/101 [==============================] - 0s 158us/step - loss: 0.6564\n",
      "Epoch 16/100\n",
      "101/101 [==============================] - ETA: 0s - loss: 0.673 - 0s 178us/step - loss: 0.6244\n",
      "Epoch 17/100\n",
      "101/101 [==============================] - 0s 168us/step - loss: 0.5965\n",
      "Epoch 18/100\n",
      "101/101 [==============================] - 0s 168us/step - loss: 0.5701\n",
      "Epoch 19/100\n",
      "101/101 [==============================] - 0s 168us/step - loss: 0.5481\n",
      "Epoch 20/100\n",
      "101/101 [==============================] - 0s 188us/step - loss: 0.5263\n",
      "Epoch 21/100\n",
      "101/101 [==============================] - 0s 149us/step - loss: 0.5054\n",
      "Epoch 22/100\n",
      "101/101 [==============================] - 0s 149us/step - loss: 0.4829\n",
      "Epoch 23/100\n",
      "101/101 [==============================] - 0s 148us/step - loss: 0.4619\n",
      "Epoch 24/100\n",
      "101/101 [==============================] - ETA: 0s - loss: 0.413 - 0s 159us/step - loss: 0.4416\n",
      "Epoch 25/100\n",
      "101/101 [==============================] - 0s 139us/step - loss: 0.4226\n",
      "Epoch 26/100\n",
      "101/101 [==============================] - 0s 139us/step - loss: 0.4079\n",
      "Epoch 27/100\n",
      "101/101 [==============================] - 0s 198us/step - loss: 0.3904\n",
      "Epoch 28/100\n",
      "101/101 [==============================] - 0s 168us/step - loss: 0.3767\n",
      "Epoch 29/100\n",
      "101/101 [==============================] - 0s 139us/step - loss: 0.3617\n",
      "Epoch 30/100\n",
      "101/101 [==============================] - 0s 168us/step - loss: 0.3469\n",
      "Epoch 31/100\n",
      "101/101 [==============================] - 0s 158us/step - loss: 0.3359\n",
      "Epoch 32/100\n",
      "101/101 [==============================] - 0s 168us/step - loss: 0.3233\n",
      "Epoch 33/100\n",
      "101/101 [==============================] - ETA: 0s - loss: 0.248 - 0s 168us/step - loss: 0.3108\n",
      "Epoch 34/100\n",
      "101/101 [==============================] - 0s 139us/step - loss: 0.3004\n",
      "Epoch 35/100\n",
      "101/101 [==============================] - 0s 158us/step - loss: 0.2896\n",
      "Epoch 36/100\n",
      "101/101 [==============================] - 0s 228us/step - loss: 0.2801\n",
      "Epoch 37/100\n",
      "101/101 [==============================] - 0s 198us/step - loss: 0.2692\n",
      "Epoch 38/100\n",
      "101/101 [==============================] - 0s 129us/step - loss: 0.2605\n",
      "Epoch 39/100\n",
      "101/101 [==============================] - 0s 158us/step - loss: 0.2513\n",
      "Epoch 40/100\n",
      "101/101 [==============================] - 0s 188us/step - loss: 0.2421\n",
      "Epoch 41/100\n",
      "101/101 [==============================] - 0s 149us/step - loss: 0.2334\n",
      "Epoch 42/100\n",
      "101/101 [==============================] - 0s 139us/step - loss: 0.2241\n",
      "Epoch 43/100\n",
      "101/101 [==============================] - 0s 149us/step - loss: 0.2170\n",
      "Epoch 44/100\n",
      "101/101 [==============================] - 0s 149us/step - loss: 0.2100\n",
      "Epoch 45/100\n",
      "101/101 [==============================] - 0s 139us/step - loss: 0.2041\n",
      "Epoch 46/100\n",
      "101/101 [==============================] - 0s 168us/step - loss: 0.1974\n",
      "Epoch 47/100\n",
      "101/101 [==============================] - 0s 178us/step - loss: 0.1915\n",
      "Epoch 48/100\n",
      "101/101 [==============================] - 0s 1ms/step - loss: 0.1856\n",
      "Epoch 49/100\n",
      "101/101 [==============================] - 0s 337us/step - loss: 0.1808\n",
      "Epoch 50/100\n",
      "101/101 [==============================] - 0s 337us/step - loss: 0.1774\n",
      "Epoch 51/100\n",
      "101/101 [==============================] - 0s 208us/step - loss: 0.1738\n",
      "Epoch 52/100\n",
      "101/101 [==============================] - 0s 158us/step - loss: 0.1697\n",
      "Epoch 53/100\n",
      "101/101 [==============================] - 0s 178us/step - loss: 0.1657\n",
      "Epoch 54/100\n",
      "101/101 [==============================] - 0s 158us/step - loss: 0.1621\n",
      "Epoch 55/100\n",
      "101/101 [==============================] - 0s 495us/step - loss: 0.1583\n",
      "Epoch 56/100\n",
      "101/101 [==============================] - 0s 208us/step - loss: 0.1552\n",
      "Epoch 57/100\n",
      "101/101 [==============================] - 0s 337us/step - loss: 0.1525\n",
      "Epoch 58/100\n",
      "101/101 [==============================] - 0s 356us/step - loss: 0.1494\n",
      "Epoch 59/100\n",
      "101/101 [==============================] - 0s 213us/step - loss: 0.1463\n",
      "Epoch 60/100\n",
      "101/101 [==============================] - 0s 247us/step - loss: 0.1432\n",
      "Epoch 61/100\n",
      "101/101 [==============================] - 0s 148us/step - loss: 0.1405\n",
      "Epoch 62/100\n",
      "101/101 [==============================] - 0s 218us/step - loss: 0.1377\n",
      "Epoch 63/100\n",
      "101/101 [==============================] - 0s 168us/step - loss: 0.1356\n",
      "Epoch 64/100\n",
      "101/101 [==============================] - 0s 158us/step - loss: 0.1333\n",
      "Epoch 65/100\n",
      "101/101 [==============================] - 0s 168us/step - loss: 0.1314\n",
      "Epoch 66/100\n",
      "101/101 [==============================] - 0s 149us/step - loss: 0.1296\n",
      "Epoch 67/100\n",
      "101/101 [==============================] - 0s 158us/step - loss: 0.1276\n",
      "Epoch 68/100\n",
      "101/101 [==============================] - 0s 188us/step - loss: 0.1259\n",
      "Epoch 69/100\n",
      "101/101 [==============================] - 0s 158us/step - loss: 0.1240\n",
      "Epoch 70/100\n",
      "101/101 [==============================] - 0s 158us/step - loss: 0.1218\n",
      "Epoch 71/100\n",
      "101/101 [==============================] - 0s 198us/step - loss: 0.1203\n",
      "Epoch 72/100\n",
      "101/101 [==============================] - 0s 178us/step - loss: 0.1188\n",
      "Epoch 73/100\n",
      "101/101 [==============================] - 0s 198us/step - loss: 0.1174\n",
      "Epoch 74/100\n",
      "101/101 [==============================] - 0s 218us/step - loss: 0.1162\n",
      "Epoch 75/100\n",
      "101/101 [==============================] - 0s 178us/step - loss: 0.1151\n",
      "Epoch 76/100\n",
      "101/101 [==============================] - 0s 168us/step - loss: 0.1138\n",
      "Epoch 77/100\n",
      "101/101 [==============================] - 0s 149us/step - loss: 0.1128\n",
      "Epoch 78/100\n",
      "101/101 [==============================] - 0s 158us/step - loss: 0.1117\n",
      "Epoch 79/100\n",
      "101/101 [==============================] - 0s 158us/step - loss: 0.1108\n",
      "Epoch 80/100\n",
      "101/101 [==============================] - 0s 168us/step - loss: 0.1099\n",
      "Epoch 81/100\n",
      "101/101 [==============================] - 0s 148us/step - loss: 0.1090\n",
      "Epoch 82/100\n",
      "101/101 [==============================] - 0s 168us/step - loss: 0.1081\n",
      "Epoch 83/100\n",
      "101/101 [==============================] - 0s 168us/step - loss: 0.1074\n",
      "Epoch 84/100\n",
      "101/101 [==============================] - 0s 168us/step - loss: 0.1066\n",
      "Epoch 85/100\n",
      "101/101 [==============================] - 0s 168us/step - loss: 0.1060\n",
      "Epoch 86/100\n",
      "101/101 [==============================] - 0s 168us/step - loss: 0.1055\n",
      "Epoch 87/100\n",
      "101/101 [==============================] - 0s 188us/step - loss: 0.1048\n",
      "Epoch 88/100\n",
      "101/101 [==============================] - 0s 139us/step - loss: 0.1042\n",
      "Epoch 89/100\n",
      "101/101 [==============================] - 0s 158us/step - loss: 0.1033\n",
      "Epoch 90/100\n",
      "101/101 [==============================] - 0s 178us/step - loss: 0.1028\n",
      "Epoch 91/100\n",
      "101/101 [==============================] - 0s 168us/step - loss: 0.1022\n",
      "Epoch 92/100\n",
      "101/101 [==============================] - 0s 198us/step - loss: 0.1016\n",
      "Epoch 93/100\n",
      "101/101 [==============================] - 0s 148us/step - loss: 0.1011\n",
      "Epoch 94/100\n",
      "101/101 [==============================] - 0s 158us/step - loss: 0.1007\n",
      "Epoch 95/100\n",
      "101/101 [==============================] - 0s 158us/step - loss: 0.1000\n",
      "Epoch 96/100\n",
      "101/101 [==============================] - 0s 168us/step - loss: 0.0997\n",
      "Epoch 97/100\n",
      "101/101 [==============================] - 0s 188us/step - loss: 0.0992\n",
      "Epoch 98/100\n",
      "101/101 [==============================] - 0s 168us/step - loss: 0.0991\n",
      "Epoch 99/100\n",
      "101/101 [==============================] - 0s 168us/step - loss: 0.0985\n",
      "Epoch 100/100\n",
      "101/101 [==============================] - 0s 158us/step - loss: 0.0984\n"
     ]
    },
    {
     "data": {
      "text/plain": [
       "<keras.callbacks.callbacks.History at 0x1dac2762dc8>"
      ]
     },
     "execution_count": 5,
     "metadata": {},
     "output_type": "execute_result"
    }
   ],
   "source": [
    "# Train\n",
    "model.fit(trX, trY, nb_epoch=100, verbose=1)"
   ]
  },
  {
   "cell_type": "code",
   "execution_count": 6,
   "metadata": {},
   "outputs": [
    {
     "name": "stdout",
     "output_type": "stream",
     "text": [
      "Linear regression model is trained with weight w: 1.81, b: 0.04\n"
     ]
    }
   ],
   "source": [
    "# Print trained weights\n",
    "weights = model.layers[0].get_weights()\n",
    "w = weights[0][0][0]\n",
    "b = weights[1][0]\n",
    "print('Linear regression model is trained with weight w: %.2f, b: %.2f' % (w, b))"
   ]
  },
  {
   "cell_type": "code",
   "execution_count": 7,
   "metadata": {},
   "outputs": [
    {
     "data": {
      "image/png": "[encoded data removed]",
      "text/plain": [
       "<Figure size 432x288 with 1 Axes>"
      ]
     },
     "metadata": {
      "needs_background": "light"
     },
     "output_type": "display_data"
    }
   ],
   "source": [
    "plt.plot(trX, trY, label='data')\n",
    "plt.plot(trX, w_init*trX + b_init, label='init')\n",
    "plt.plot(trX, w*trX + b, label='prediction')\n",
    "plt.legend()\n",
    "plt.show()"
   ]
  },
  {
   "cell_type": "code",
   "execution_count": 8,
   "metadata": {},
   "outputs": [],
   "source": [
    "from keras.layers import Dense\n",
    "from keras.optimizers import SGD\n",
    "from keras.datasets import mnist\n",
    "from keras.utils import np_utils"
   ]
  },
  {
   "cell_type": "code",
   "execution_count": 9,
   "metadata": {},
   "outputs": [],
   "source": [
    "batch_size = 128\n",
    "nb_classes = 10\n",
    "nb_epoch = 100"
   ]
  },
  {
   "cell_type": "code",
   "execution_count": 10,
   "metadata": {},
   "outputs": [],
   "source": [
    "# Load MNIST dataset\n",
    "(X_train, y_train), (X_test, y_test) = mnist.load_data()\n",
    "X_train = X_train.reshape(60000, 784)\n",
    "X_test = X_test.reshape(10000, 784)\n",
    "X_train = X_train.astype('float32')\n",
    "X_test = X_test.astype('float32')\n",
    "X_train /= 255\n",
    "X_test /= 255\n",
    "Y_Train = np_utils.to_categorical(y_train, nb_classes)\n",
    "Y_Test = np_utils.to_categorical(y_test, nb_classes)"
   ]
  },
  {
   "cell_type": "code",
   "execution_count": 11,
   "metadata": {},
   "outputs": [
    {
     "name": "stderr",
     "output_type": "stream",
     "text": [
      "C:\\Users\\Owner\\Anaconda3\\lib\\site-packages\\ipykernel_launcher.py:3: UserWarning: Update your `Dense` call to the Keras 2 API: `Dense(input_shape=(784,), activation=\"softmax\", units=10, kernel_initializer=\"normal\")`\n",
      "  This is separate from the ipykernel package so we can avoid doing imports until\n"
     ]
    },
    {
     "name": "stdout",
     "output_type": "stream",
     "text": [
      "Model: \"sequential_2\"\n",
      "_________________________________________________________________\n",
      "Layer (type)                 Output Shape              Param #   \n",
      "=================================================================\n",
      "dense_2 (Dense)              (None, 10)                7850      \n",
      "=================================================================\n",
      "Total params: 7,850\n",
      "Trainable params: 7,850\n",
      "Non-trainable params: 0\n",
      "_________________________________________________________________\n"
     ]
    }
   ],
   "source": [
    "# Logistic regression model\n",
    "model = Sequential()\n",
    "model.add(Dense(output_dim=10, input_shape=(784,), init='normal', activation='softmax'))\n",
    "model.compile(optimizer=SGD(lr=0.05), loss='categorical_crossentropy', metrics=['accuracy'])\n",
    "model.summary()"
   ]
  },
  {
   "cell_type": "code",
   "execution_count": null,
   "metadata": {},
   "outputs": [
    {
     "name": "stderr",
     "output_type": "stream",
     "text": [
      "C:\\Users\\Owner\\Anaconda3\\lib\\site-packages\\ipykernel_launcher.py:2: UserWarning: The `nb_epoch` argument in `fit` has been renamed `epochs`.\n",
      "  \n"
     ]
    },
    {
     "name": "stdout",
     "output_type": "stream",
     "text": [
      "Epoch 1/100\n",
      "60000/60000 [==============================] - 10s 162us/step - loss: 0.7237 - accuracy: 0.8247\n",
      "Epoch 2/100\n",
      "60000/60000 [==============================] - 5s 91us/step - loss: 0.4320 - accuracy: 0.8853\n",
      "Epoch 3/100\n",
      "60000/60000 [==============================] - 3s 45us/step - loss: 0.3856 - accuracy: 0.8950\n",
      "Epoch 4/100\n",
      "60000/60000 [==============================] - 3s 46us/step - loss: 0.3623 - accuracy: 0.8999\n",
      "Epoch 5/100\n",
      "60000/60000 [==============================] - 4s 64us/step - loss: 0.3472 - accuracy: 0.9039\n",
      "Epoch 6/100\n",
      "60000/60000 [==============================] - 5s 81us/step - loss: 0.3368 - accuracy: 0.9065\n",
      "Epoch 7/100\n",
      "60000/60000 [==============================] - 4s 61us/step - loss: 0.3288 - accuracy: 0.9085\n",
      "Epoch 8/100\n",
      "60000/60000 [==============================] - 3s 53us/step - loss: 0.3224 - accuracy: 0.9104\n",
      "Epoch 9/100\n",
      "60000/60000 [==============================] - 4s 74us/step - loss: 0.3171 - accuracy: 0.9117\n",
      "Epoch 10/100\n",
      "60000/60000 [==============================] - 4s 68us/step - loss: 0.3126 - accuracy: 0.9130\n",
      "Epoch 11/100\n",
      "60000/60000 [==============================] - 4s 70us/step - loss: 0.3089 - accuracy: 0.9140\n",
      "Epoch 12/100\n",
      "60000/60000 [==============================] - 4s 68us/step - loss: 0.3056 - accuracy: 0.9153\n",
      "Epoch 13/100\n",
      "60000/60000 [==============================] - 6s 98us/step - loss: 0.3026 - accuracy: 0.9164 0s - loss: 0.3023 - ac - ETA: 0s - loss: 0.3029 - accuracy: 0.\n",
      "Epoch 14/100\n",
      "60000/60000 [==============================] - 3s 54us/step - loss: 0.3001 - accuracy: 0.9164\n",
      "Epoch 15/100\n",
      "60000/60000 [==============================] - 3s 49us/step - loss: 0.2977 - accuracy: 0.9170\n",
      "Epoch 16/100\n",
      "60000/60000 [==============================] - 4s 71us/step - loss: 0.2956 - accuracy: 0.9178\n",
      "Epoch 17/100\n",
      "60000/60000 [==============================] - 4s 70us/step - loss: 0.2938 - accuracy: 0.9178\n",
      "Epoch 18/100\n",
      "60000/60000 [==============================] - 4s 64us/step - loss: 0.2920 - accuracy: 0.9188\n",
      "Epoch 19/100\n",
      "60000/60000 [==============================] - 4s 59us/step - loss: 0.2903 - accuracy: 0.9193\n",
      "Epoch 20/100\n",
      "60000/60000 [==============================] - 4s 62us/step - loss: 0.2887 - accuracy: 0.9196\n",
      "Epoch 21/100\n",
      "60000/60000 [==============================] - 3s 54us/step - loss: 0.2874 - accuracy: 0.9201\n",
      "Epoch 22/100\n",
      "60000/60000 [==============================] - 4s 71us/step - loss: 0.2861 - accuracy: 0.9202\n",
      "Epoch 23/100\n",
      "60000/60000 [==============================] - 4s 73us/step - loss: 0.2848 - accuracy: 0.9206\n",
      "Epoch 24/100\n",
      "60000/60000 [==============================] - 3s 56us/step - loss: 0.2836 - accuracy: 0.9210\n",
      "Epoch 25/100\n",
      "60000/60000 [==============================] - 3s 46us/step - loss: 0.2644 - accuracy: 0.9268\n",
      "Epoch 57/100\n",
      "60000/60000 [==============================] - 2s 41us/step - loss: 0.2641 - accuracy: 0.9270\n",
      "Epoch 58/100\n",
      "60000/60000 [==============================] - 3s 44us/step - loss: 0.2638 - accuracy: 0.9270\n",
      "Epoch 59/100\n",
      "60000/60000 [==============================] - 3s 47us/step - loss: 0.2635 - accuracy: 0.9271\n",
      "Epoch 60/100\n",
      "60000/60000 [==============================] - 6s 97us/step - loss: 0.2632 - accuracy: 0.9272 0s - loss: 0.2633 - accura\n",
      "Epoch 61/100\n",
      "60000/60000 [==============================] - 5s 90us/step - loss: 0.2628 - accuracy: 0.9275\n",
      "Epoch 62/100\n",
      "60000/60000 [==============================] - 4s 60us/step - loss: 0.2625 - accuracy: 0.9270\n",
      "Epoch 63/100\n",
      "60000/60000 [==============================] - 5s 81us/step - loss: 0.2622 - accuracy: 0.9273 0s - l\n",
      "Epoch 64/100\n",
      "60000/60000 [==============================] - 7s 118us/step - loss: 0.2619 - accuracy: 0.9279\n",
      "Epoch 65/100\n",
      "60000/60000 [==============================] - 7s 112us/step - loss: 0.2616 - accuracy: 0.92780s - loss: 0.2635 - accuracy:  - - ETA: 0s - loss: 0.2619 - accuracy: 0.92 - ETA: 0s - loss: 0.2619 - accuracy\n",
      "Epoch 66/100\n",
      "60000/60000 [==============================] - 6s 104us/step - loss: 0.2614 - accuracy: 0.9279\n",
      "Epoch 67/100\n",
      "60000/60000 [==============================] - 3s 52us/step - loss: 0.2611 - accuracy: 0.9282\n",
      "Epoch 68/100\n",
      "60000/60000 [==============================] - 3s 53us/step - loss: 0.2609 - accuracy: 0.9279\n",
      "Epoch 69/100\n",
      "60000/60000 [==============================] - 3s 50us/step - loss: 0.2606 - accuracy: 0.9284\n",
      "Epoch 70/100\n",
      "60000/60000 [==============================] - 4s 63us/step - loss: 0.2604 - accuracy: 0.9281\n",
      "Epoch 71/100\n",
      "60000/60000 [==============================] - 3s 54us/step - loss: 0.2601 - accuracy: 0.9281\n",
      "Epoch 72/100\n",
      "60000/60000 [==============================] - 4s 65us/step - loss: 0.2598 - accuracy: 0.9286 0s - loss: 0.2577 - accura\n",
      "Epoch 73/100\n",
      "19840/60000 [========>.....................] - ETA: 2s - loss: 0.2518 - accuracy: 0.9295"
     ]
    }
   ],
   "source": [
    "# Train\n",
    "history = model.fit(X_train, Y_Train, nb_epoch=nb_epoch, batch_size=batch_size, verbose=1)"
   ]
  },
  {
   "cell_type": "code",
   "execution_count": null,
   "metadata": {},
   "outputs": [],
   "source": [
    "# Evaluate\n",
    "evaluation = model.evaluate(X_test, Y_Test, verbose=1)\n",
    "print('Summary: Loss over the test dataset: %.2f, Accuracy: %.2f' % (evaluation[0], evaluation[1]))"
   ]
  },
  {
   "cell_type": "code",
   "execution_count": null,
   "metadata": {},
   "outputs": [],
   "source": []
  }
 ],
 "metadata": {
  "kernelspec": {
   "display_name": "Python 3",
   "language": "python",
   "name": "python3"
  },
  "language_info": {
   "codemirror_mode": {
    "name": "ipython",
    "version": 3
   },
   "file_extension": ".py",
   "mimetype": "text/x-python",
   "name": "python",
   "nbconvert_exporter": "python",
   "pygments_lexer": "ipython3",
   "version": "3.7.4"
  }
 },
 "nbformat": 4,
 "nbformat_minor": 4
}
