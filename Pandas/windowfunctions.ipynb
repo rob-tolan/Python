{
 "cells": [
  {
   "cell_type": "code",
   "execution_count": 3,
   "metadata": {},
   "outputs": [
    {
     "name": "stdout",
     "output_type": "stream",
     "text": [
      "                   A         B         C         D\n",
      "2000-01-01       NaN       NaN       NaN       NaN\n",
      "2000-01-02       NaN       NaN       NaN       NaN\n",
      "2000-01-03  0.015078 -0.008815 -0.284072  0.060248\n",
      "2000-01-04 -0.478695  0.436824 -0.249126 -0.403686\n",
      "2000-01-05 -0.361234  0.326961 -0.750842 -0.559037\n",
      "2000-01-06 -0.684000  0.479931 -0.810401 -0.977084\n",
      "2000-01-07 -0.482086  0.118692 -0.347504  0.207606\n",
      "2000-01-08 -0.966549  0.163009  0.122425 -0.751815\n",
      "2000-01-09 -1.257464  0.095438 -0.713796 -0.582203\n",
      "2000-01-10 -1.224371  0.549969 -0.963285 -1.540836\n"
     ]
    }
   ],
   "source": [
    "import pandas as pd\n",
    "import numpy as np\n",
    "\n",
    "df = pd.DataFrame(np.random.randn(10, 4),\n",
    "   index = pd.date_range('1/1/2000', periods=10),\n",
    "   columns = ['A', 'B', 'C', 'D'])\n",
    "print(df.rolling(window=3).mean())"
   ]
  },
  {
   "cell_type": "code",
   "execution_count": null,
   "metadata": {},
   "outputs": [],
   "source": [
    "import pandas as pd\n",
    "import numpy as np\n",
    "\n",
    "df = pd.DataFrame(np.random.randn(10, 4),\n",
    "   index = pd.date_range('1/1/2000', periods=10),\n",
    "   columns = ['A', 'B', 'C', 'D'])\n",
    "print df.rolling(window=3).mean()"
   ]
  }
 ],
 "metadata": {
  "kernelspec": {
   "display_name": "Python 3",
   "language": "python",
   "name": "python3"
  },
  "language_info": {
   "codemirror_mode": {
    "name": "ipython",
    "version": 3
   },
   "file_extension": ".py",
   "mimetype": "text/x-python",
   "name": "python",
   "nbconvert_exporter": "python",
   "pygments_lexer": "ipython3",
   "version": "3.7.4"
  }
 },
 "nbformat": 4,
 "nbformat_minor": 4
}
