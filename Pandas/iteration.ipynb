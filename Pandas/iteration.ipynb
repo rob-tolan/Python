{
 "cells": [
  {
   "cell_type": "code",
   "execution_count": 2,
   "metadata": {},
   "outputs": [
    {
     "name": "stdout",
     "output_type": "stream",
     "text": [
      "A\n",
      "x\n",
      "y\n",
      "C\n",
      "D\n"
     ]
    }
   ],
   "source": [
    "import pandas as pd\n",
    "import numpy as np\n",
    " \n",
    "N=20\n",
    "df = pd.DataFrame({\n",
    "   'A': pd.date_range(start='2016-01-01',periods=N,freq='D'),\n",
    "   'x': np.linspace(0,stop=N-1,num=N),\n",
    "   'y': np.random.rand(N),\n",
    "   'C': np.random.choice(['Low','Medium','High'],N).tolist(),\n",
    "   'D': np.random.normal(100, 10, size=(N)).tolist()\n",
    "   })\n",
    "\n",
    "for col in df:\n",
    "   print(col)"
   ]
  },
  {
   "cell_type": "code",
   "execution_count": 3,
   "metadata": {},
   "outputs": [
    {
     "name": "stdout",
     "output_type": "stream",
     "text": [
      "col1 0   -0.055325\n",
      "1   -0.273999\n",
      "2    0.943060\n",
      "3   -0.287347\n",
      "Name: col1, dtype: float64\n",
      "col2 0    0.256858\n",
      "1   -0.002835\n",
      "2    1.383898\n",
      "3    0.170832\n",
      "Name: col2, dtype: float64\n",
      "col3 0    0.786788\n",
      "1    0.087966\n",
      "2    1.440360\n",
      "3    0.975432\n",
      "Name: col3, dtype: float64\n"
     ]
    }
   ],
   "source": [
    "#iteritems\n",
    "df = pd.DataFrame(np.random.randn(4,3),columns=['col1','col2','col3'])\n",
    "for key,value in df.iteritems():\n",
    "   print(key,value)"
   ]
  },
  {
   "cell_type": "code",
   "execution_count": 5,
   "metadata": {},
   "outputs": [
    {
     "name": "stdout",
     "output_type": "stream",
     "text": [
      "0 col1    0.323497\n",
      "col2   -0.398605\n",
      "col3   -0.479108\n",
      "Name: 0, dtype: float64\n",
      "1 col1   -0.575668\n",
      "col2   -0.429192\n",
      "col3   -0.793861\n",
      "Name: 1, dtype: float64\n",
      "2 col1   -1.688693\n",
      "col2   -1.630477\n",
      "col3   -0.444073\n",
      "Name: 2, dtype: float64\n",
      "3 col1    1.559317\n",
      "col2    1.158377\n",
      "col3    1.151068\n",
      "Name: 3, dtype: float64\n"
     ]
    }
   ],
   "source": [
    "#iterrows\n",
    "df = pd.DataFrame(np.random.randn(4,3),columns = ['col1','col2','col3'])\n",
    "for row_index,row in df.iterrows():\n",
    "   print(row_index,row)"
   ]
  },
  {
   "cell_type": "code",
   "execution_count": null,
   "metadata": {},
   "outputs": [],
   "source": []
  }
 ],
 "metadata": {
  "kernelspec": {
   "display_name": "Python 3",
   "language": "python",
   "name": "python3"
  },
  "language_info": {
   "codemirror_mode": {
    "name": "ipython",
    "version": 3
   },
   "file_extension": ".py",
   "mimetype": "text/x-python",
   "name": "python",
   "nbconvert_exporter": "python",
   "pygments_lexer": "ipython3",
   "version": "3.7.4"
  }
 },
 "nbformat": 4,
 "nbformat_minor": 4
}
